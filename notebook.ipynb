{
  "nbformat": 4,
  "nbformat_minor": 0,
  "metadata": {
    "colab": {
      "name": "hop_labs.ipynb",
      "provenance": [],
      "collapsed_sections": []
    },
    "kernelspec": {
      "name": "python3",
      "display_name": "Python 3"
    }
  },
  "cells": [
    {
      "cell_type": "code",
      "metadata": {
        "id": "hjIr6lic4tst"
      },
      "source": [
        "# import numpy as np\n",
        "import pandas as pd\n",
        "import struct"
      ],
      "execution_count": 1,
      "outputs": []
    },
    {
      "cell_type": "code",
      "metadata": {
        "id": "7dAp9AiYQq9s"
      },
      "source": [
        "FILENAME = 'txnlog.dat'\n",
        "USERID = 2456938384156277127"
      ],
      "execution_count": 2,
      "outputs": []
    },
    {
      "cell_type": "markdown",
      "metadata": {
        "id": "7L7gpRUdD4x_"
      },
      "source": [
        "Header (9 total) 4 byte magic string \"MPS7\" | 1 byte version | 4 byte (uint32)  of records \n",
        "\n",
        "\n",
        "record type chart:\n",
        "\n",
        "0x00: Debit b'x00'\n",
        "\n",
        "0x01: Credit b'\\x01'\n",
        "\n",
        "0x02: StartAutopay b'\\x02' \n",
        "\n",
        "0x03 : EndAutopay b'\\x03'\n",
        "\n",
        "\n",
        "record is 13 bytes dollar amount is 8 byte (float64) amount in dollars\n",
        "\n",
        "| 1 byte record type enum | 4 byte (uint32) Unix timestamp | 8 byte (uint64) user ID |\n"
      ]
    },
    {
      "cell_type": "code",
      "metadata": {
        "id": "134-i9GDQHyw",
        "outputId": "63f32ada-4d3a-4656-ffe9-2420adff9422",
        "colab": {
          "base_uri": "https://localhost:8080/"
        }
      },
      "source": [
        "with open(FILENAME, 'rb') as binary:\n",
        "  txns = binary.read()\n",
        "\n",
        "# unpack header\n",
        "magic_string = struct.unpack('>4s', txns[0:4])\n",
        "version_no = struct.unpack('>B', txns[4:5])\n",
        "total_records = struct.unpack('>I', txns[5:9])\n",
        "\n",
        "\n",
        "# print header for sanity check \n",
        "print('Magic String: ', magic_string[0], '\\nVersion Number: ', version_no[0], '\\nTotal Records: ', total_records[0])\n",
        "\n",
        "\n",
        "# print first record for sanity check \n",
        "first_record = struct.unpack('>cIQd', txns[9:30])\n",
        "print('first record: ', first_record)\n"
      ],
      "execution_count": 3,
      "outputs": [
        {
          "output_type": "stream",
          "text": [
            "Magic String:  b'MPS7' \n",
            "Version Number:  1 \n",
            "Total Records:  71\n",
            "first record:  (b'\\x00', 1393108945, 4136353673894269217, 604.274335557087)\n"
          ],
          "name": "stdout"
        }
      ]
    },
    {
      "cell_type": "code",
      "metadata": {
        "id": "9vSgERzCQHuM"
      },
      "source": [
        "txn_type = {b'\\x00':'Debit', b'\\x01':'Credit', b'\\x02':'StartAutopay', b'\\x03':'EndAutopay'}\n",
        "header_length = 9\n",
        "record_length = 13\n",
        "dollar_length = 8\n",
        "\n",
        "# Skip header\n",
        "header_length = 9\n",
        "# start at first record\n",
        "start_byte = header_length"
      ],
      "execution_count": 4,
      "outputs": []
    },
    {
      "cell_type": "code",
      "metadata": {
        "id": "H7iqay0Q8lKe"
      },
      "source": [
        "df_column_names = ['Transaction_Type', 'Unix_Timestamp', 'User_ID', 'Amount']\n",
        "all_transactions = pd.DataFrame(columns=df_column_names)"
      ],
      "execution_count": 5,
      "outputs": []
    },
    {
      "cell_type": "code",
      "metadata": {
        "id": "vh5pZMnj8lOx",
        "outputId": "0815b1b3-ee37-4d7c-9650-f4d759275e5a",
        "colab": {
          "base_uri": "https://localhost:8080/"
        }
      },
      "source": [
        "for i in range(total_records[0]):\n",
        "  stop_byte = start_byte + record_length\n",
        "  (txns_type, timestamp, user) = struct.unpack('>cIQ', txns[start_byte:stop_byte])\n",
        "  \n",
        "  # set start to where last txn stopped\n",
        "  start_byte = stop_byte \n",
        "  transaction_amount = None # records that do not contain an amount\n",
        "\n",
        "  transaction_type = txn_type[txns_type]\n",
        "\n",
        "\n",
        "  if transaction_type == 'Debit' or transaction_type == 'Credit':\n",
        "    stop_byte = start_byte + dollar_length\n",
        "    transaction_amount = struct.unpack('>d', txns[start_byte:stop_byte])[0]\n",
        "    start_byte = stop_byte\n",
        "  \n",
        "  print(transaction_type, timestamp, user, transaction_amount)\n",
        "  all_transactions.loc[i] = [transaction_type, timestamp, user, transaction_amount]\n"
      ],
      "execution_count": 6,
      "outputs": [
        {
          "output_type": "stream",
          "text": [
            "Debit 1393108945 4136353673894269217 604.274335557087\n",
            "Credit 1416458602 1486945396868222946 825.129614841758\n",
            "Debit 1398140960 1019092597011251431 668.673048640753\n",
            "StartAutopay 1390539963 3724427934598140041 None\n",
            "Debit 1416760748 6837272077571506036 397.73876190471094\n",
            "Credit 1416425125 7979830878773245174 608.1343005023912\n",
            "StartAutopay 1407728826 169747289235870461 None\n",
            "Debit 1407057140 6555455521637047278 163.32836050527746\n",
            "Debit 1416615422 6823688420765684666 384.61670768440615\n",
            "EndAutopay 1389541294 7178585665953385255 None\n",
            "Credit 1402457849 3018469034978866138 154.66390447034632\n",
            "Debit 1405988060 1518491488393966864 882.4780989014131\n",
            "EndAutopay 1413632673 2477346412368114538 None\n",
            "Credit 1411685979 3281373847403844559 828.5647201149624\n",
            "StartAutopay 1416958471 685213522303989579 None\n",
            "Debit 1405300715 4596876061716608039 654.8593045062225\n",
            "StartAutopay 1417477182 4011359550169803385 None\n",
            "Debit 1388954072 6648738534997005833 286.292471682929\n",
            "EndAutopay 1401299706 7979830878773245174 None\n",
            "Debit 1404427639 5508906111153315027 812.3673133703762\n",
            "EndAutopay 1391406507 904175229436884807 None\n",
            "Debit 1409938379 2015796113853353331 600.5947735308418\n",
            "Credit 1415278068 3875821099972261373 950.7148465148056\n",
            "Credit 1405640186 6768616184571698394 596.2573208404757\n",
            "StartAutopay 1404620303 7812633826533728866 None\n",
            "Credit 1418913116 1247117451352823362 222.0054884170482\n",
            "Debit 1405282673 2456938384156277127 248.58493153382494\n",
            "Debit 1412703694 8505906760983331750 955.291966268199\n",
            "Debit 1388934017 4228385537401050629 873.4464976875612\n",
            "Debit 1412688779 3797840465501570741 308.10189626449653\n",
            "StartAutopay 1392255769 2038354632042919136 None\n",
            "Debit 1397081853 7471037767326702542 826.8330611457798\n",
            "StartAutopay 1399551130 3513954178729516251 None\n",
            "Debit 1397205932 4765185273242274979 480.11443434463564\n",
            "Debit 1414233821 6842348953158377901 534.8337387988205\n",
            "Debit 1411844475 8219753787156836038 998.1177370573519\n",
            "EndAutopay 1407106856 8424619375577601358 None\n",
            "Debit 1395001682 1266660370390831100 400.5851541746789\n",
            "Debit 1396336714 7724259785917765574 279.47045216231675\n",
            "Debit 1394285231 7756793223429037911 162.76522171100336\n",
            "EndAutopay 1416562451 8599028105427697917 None\n",
            "Debit 1390185454 4724875543908344324 142.3348810911142\n",
            "Debit 1389850890 2691316960514504584 633.1497179916641\n",
            "StartAutopay 1418380705 1461491922069311906 None\n",
            "Credit 1394357363 5600924393587988459 741.3043327821788\n",
            "Debit 1415943274 4674073639784955121 509.3625884309887\n",
            "Debit 1416613150 6710715718024909786 309.8385270013281\n",
            "Debit 1396779961 242253255677188752 439.66132267995675\n",
            "StartAutopay 1406564840 8761626118042981173 None\n",
            "Debit 1391796075 1674879938132494608 274.7547435617377\n",
            "Debit 1417532923 4270785598083309515 392.85586634208187\n",
            "Debit 1404193974 897079919269759687 600.8180705475452\n",
            "EndAutopay 1402339411 1274435346255131727 None\n",
            "Credit 1394845735 788787457839692041 682.9769694109622\n",
            "Debit 1419199127 1518491488393966864 98.83240813535791\n",
            "Debit 1405000357 61122968712918070 272.3482990055766\n",
            "Debit 1405110299 4170845066679832471 556.4369961042623\n",
            "Debit 1403503729 3828453040100642871 537.9113174554473\n",
            "StartAutopay 1415281776 5498777567991819303 None\n",
            "Debit 1389762186 4280841143732940727 313.44737449991106\n",
            "Debit 1395510618 6573152408751522017 707.3399488549305\n",
            "EndAutopay 1412761292 1210013397032407120 None\n",
            "Credit 1398697332 9016747369828896466 552.2931303410837\n",
            "Debit 1391793265 8859025831836355027 891.2392042674912\n",
            "Credit 1416760748 6837272077571506036 397.73876190471094\n",
            "Credit 1416615422 6823688420765684666 384.61670768440615\n",
            "Credit 1405282673 2456938384156277127 248.58493153382494\n",
            "Credit 1412703694 8505906760983331750 955.291966268199\n",
            "Credit 1389850890 2691316960514504584 633.1497179916641\n",
            "Credit 1416613150 6710715718024909786 309.8385270013281\n",
            "Credit 1391796075 1674879938132494608 274.7547435617377\n"
          ],
          "name": "stdout"
        }
      ]
    },
    {
      "cell_type": "code",
      "metadata": {
        "id": "ipU3Lfya8lVN",
        "outputId": "1f57ae87-a0d9-4c42-f984-1f6a75e4f395",
        "colab": {
          "base_uri": "https://localhost:8080/",
          "height": 419
        }
      },
      "source": [
        "all_transactions.head(71)"
      ],
      "execution_count": 7,
      "outputs": [
        {
          "output_type": "execute_result",
          "data": {
            "text/html": [
              "<div>\n",
              "<style scoped>\n",
              "    .dataframe tbody tr th:only-of-type {\n",
              "        vertical-align: middle;\n",
              "    }\n",
              "\n",
              "    .dataframe tbody tr th {\n",
              "        vertical-align: top;\n",
              "    }\n",
              "\n",
              "    .dataframe thead th {\n",
              "        text-align: right;\n",
              "    }\n",
              "</style>\n",
              "<table border=\"1\" class=\"dataframe\">\n",
              "  <thead>\n",
              "    <tr style=\"text-align: right;\">\n",
              "      <th></th>\n",
              "      <th>Transaction_Type</th>\n",
              "      <th>Unix_Timestamp</th>\n",
              "      <th>User_ID</th>\n",
              "      <th>Amount</th>\n",
              "    </tr>\n",
              "  </thead>\n",
              "  <tbody>\n",
              "    <tr>\n",
              "      <th>0</th>\n",
              "      <td>Debit</td>\n",
              "      <td>1393108945</td>\n",
              "      <td>4136353673894269217</td>\n",
              "      <td>604.274</td>\n",
              "    </tr>\n",
              "    <tr>\n",
              "      <th>1</th>\n",
              "      <td>Credit</td>\n",
              "      <td>1416458602</td>\n",
              "      <td>1486945396868222946</td>\n",
              "      <td>825.13</td>\n",
              "    </tr>\n",
              "    <tr>\n",
              "      <th>2</th>\n",
              "      <td>Debit</td>\n",
              "      <td>1398140960</td>\n",
              "      <td>1019092597011251431</td>\n",
              "      <td>668.673</td>\n",
              "    </tr>\n",
              "    <tr>\n",
              "      <th>3</th>\n",
              "      <td>StartAutopay</td>\n",
              "      <td>1390539963</td>\n",
              "      <td>3724427934598140041</td>\n",
              "      <td>None</td>\n",
              "    </tr>\n",
              "    <tr>\n",
              "      <th>4</th>\n",
              "      <td>Debit</td>\n",
              "      <td>1416760748</td>\n",
              "      <td>6837272077571506036</td>\n",
              "      <td>397.739</td>\n",
              "    </tr>\n",
              "    <tr>\n",
              "      <th>...</th>\n",
              "      <td>...</td>\n",
              "      <td>...</td>\n",
              "      <td>...</td>\n",
              "      <td>...</td>\n",
              "    </tr>\n",
              "    <tr>\n",
              "      <th>66</th>\n",
              "      <td>Credit</td>\n",
              "      <td>1405282673</td>\n",
              "      <td>2456938384156277127</td>\n",
              "      <td>248.585</td>\n",
              "    </tr>\n",
              "    <tr>\n",
              "      <th>67</th>\n",
              "      <td>Credit</td>\n",
              "      <td>1412703694</td>\n",
              "      <td>8505906760983331750</td>\n",
              "      <td>955.292</td>\n",
              "    </tr>\n",
              "    <tr>\n",
              "      <th>68</th>\n",
              "      <td>Credit</td>\n",
              "      <td>1389850890</td>\n",
              "      <td>2691316960514504584</td>\n",
              "      <td>633.15</td>\n",
              "    </tr>\n",
              "    <tr>\n",
              "      <th>69</th>\n",
              "      <td>Credit</td>\n",
              "      <td>1416613150</td>\n",
              "      <td>6710715718024909786</td>\n",
              "      <td>309.839</td>\n",
              "    </tr>\n",
              "    <tr>\n",
              "      <th>70</th>\n",
              "      <td>Credit</td>\n",
              "      <td>1391796075</td>\n",
              "      <td>1674879938132494608</td>\n",
              "      <td>274.755</td>\n",
              "    </tr>\n",
              "  </tbody>\n",
              "</table>\n",
              "<p>71 rows × 4 columns</p>\n",
              "</div>"
            ],
            "text/plain": [
              "   Transaction_Type Unix_Timestamp              User_ID   Amount\n",
              "0             Debit     1393108945  4136353673894269217  604.274\n",
              "1            Credit     1416458602  1486945396868222946   825.13\n",
              "2             Debit     1398140960  1019092597011251431  668.673\n",
              "3      StartAutopay     1390539963  3724427934598140041     None\n",
              "4             Debit     1416760748  6837272077571506036  397.739\n",
              "..              ...            ...                  ...      ...\n",
              "66           Credit     1405282673  2456938384156277127  248.585\n",
              "67           Credit     1412703694  8505906760983331750  955.292\n",
              "68           Credit     1389850890  2691316960514504584   633.15\n",
              "69           Credit     1416613150  6710715718024909786  309.839\n",
              "70           Credit     1391796075  1674879938132494608  274.755\n",
              "\n",
              "[71 rows x 4 columns]"
            ]
          },
          "metadata": {
            "tags": []
          },
          "execution_count": 7
        }
      ]
    },
    {
      "cell_type": "code",
      "metadata": {
        "id": "U2BoPRE_8lbm",
        "outputId": "aa832ebc-7a5f-4c60-a497-723f15ef9a03",
        "colab": {
          "base_uri": "https://localhost:8080/"
        }
      },
      "source": [
        "total_debits = round(all_transactions.loc[all_transactions['Transaction_Type'] == 'Debit', 'Amount'].sum(), 2)\n",
        "print(total_debits)"
      ],
      "execution_count": 8,
      "outputs": [
        {
          "output_type": "stream",
          "text": [
            "18203.7\n"
          ],
          "name": "stdout"
        }
      ]
    },
    {
      "cell_type": "code",
      "metadata": {
        "id": "1wojz4Mw8lX0",
        "outputId": "21ca3d39-8bf3-4ac1-86c5-3d650698feee",
        "colab": {
          "base_uri": "https://localhost:8080/"
        }
      },
      "source": [
        "total_credits = round(all_transactions.loc[all_transactions['Transaction_Type'] == 'Credit', 'Amount'].sum(), 2)\n",
        "print(total_credits)"
      ],
      "execution_count": 9,
      "outputs": [
        {
          "output_type": "stream",
          "text": [
            "9366.02\n"
          ],
          "name": "stdout"
        }
      ]
    },
    {
      "cell_type": "code",
      "metadata": {
        "id": "egIbroS5p8Kj",
        "outputId": "a3302c16-ece4-4251-eafe-6b6e831ca7f6",
        "colab": {
          "base_uri": "https://localhost:8080/"
        }
      },
      "source": [
        "is_started = all_transactions['Transaction_Type'] == 'StartAutopay'\n",
        "print(all_transactions[is_started]['Transaction_Type'].count())"
      ],
      "execution_count": 10,
      "outputs": [
        {
          "output_type": "stream",
          "text": [
            "10\n"
          ],
          "name": "stdout"
        }
      ]
    },
    {
      "cell_type": "code",
      "metadata": {
        "id": "0r4oiB33fMiG",
        "outputId": "3978dd48-fc74-4c53-b5da-d90f9ab297c3",
        "colab": {
          "base_uri": "https://localhost:8080/"
        }
      },
      "source": [
        "is_ended = all_transactions['Transaction_Type'] == 'EndAutopay'\n",
        "print(all_transactions[is_ended]['Transaction_Type'].count())"
      ],
      "execution_count": 11,
      "outputs": [
        {
          "output_type": "stream",
          "text": [
            "8\n"
          ],
          "name": "stdout"
        }
      ]
    },
    {
      "cell_type": "code",
      "metadata": {
        "id": "HHA-9BidfMmT",
        "outputId": "7c1346cf-22ec-452f-f185-dd61048d2d73",
        "colab": {
          "base_uri": "https://localhost:8080/"
        }
      },
      "source": [
        "# User ID 2456938384156277127\n",
        "is_user = all_transactions['User_ID'] == 2456938384156277127\n",
        "\n",
        "user_transactions = all_transactions[is_user]\n",
        "user_transactions.head()\n",
        "\n",
        "user_credits = round(user_transactions.loc[user_transactions['Transaction_Type'] == 'Credit', 'Amount'].sum(), 2)\n",
        "\n",
        "user_debits = round(user_transactions.loc[user_transactions['Transaction_Type'] == 'Debit', 'Amount'].sum(), 2)\n",
        "\n",
        "balance_for_user = user_credits - user_debits\n",
        "\n",
        "print(\"{:.2f}\".format(balance_for_user))\n"
      ],
      "execution_count": 12,
      "outputs": [
        {
          "output_type": "stream",
          "text": [
            "0.00\n"
          ],
          "name": "stdout"
        }
      ]
    },
    {
      "cell_type": "markdown",
      "metadata": {
        "id": "nC-2CFAKRqx-"
      },
      "source": [
        "# Reformat code for readability"
      ]
    },
    {
      "cell_type": "code",
      "metadata": {
        "id": "_67F82NaP-YO",
        "outputId": "8bd2e7c5-1208-4431-ddd3-110ff596facf",
        "colab": {
          "base_uri": "https://localhost:8080/"
        }
      },
      "source": [
        "def calc_user_balance(txns_to_parse, user_id):\n",
        "    \n",
        "    is_user = txns_to_parse['User_ID'] == user_id\n",
        "\n",
        "    user_transactions = txns_to_parse[is_user]\n",
        "    user_transactions.head()\n",
        "\n",
        "    user_credits = round(user_transactions.loc[user_transactions['Transaction_Type'] == 'Credit', 'Amount'].sum(), 2)\n",
        "\n",
        "    user_debits = round(user_transactions.loc[user_transactions['Transaction_Type'] == 'Debit', 'Amount'].sum(), 2)\n",
        "\n",
        "    balance_for_user = user_credits - user_debits\n",
        "\n",
        "    return(balance_for_user)\n",
        "\n",
        "balance_for_user = calc_user_balance(all_transactions, USERID)\n",
        "print(f\"balance for user 2456938384156277127 = {balance_for_user:.2f}\")"
      ],
      "execution_count": 14,
      "outputs": [
        {
          "output_type": "stream",
          "text": [
            "balance for user 2456938384156277127 = 0.00\n"
          ],
          "name": "stdout"
        }
      ]
    },
    {
      "cell_type": "code",
      "metadata": {
        "id": "sk1f1reSRjKs",
        "outputId": "7ed8fe7d-d317-4fbb-a342-33bce4f50771",
        "colab": {
          "base_uri": "https://localhost:8080/"
        }
      },
      "source": [
        "def calc_autopay_ended(txns_to_parse):\n",
        "    is_ended = txns_to_parse['Transaction_Type'] == 'EndAutopay'\n",
        "    return(txns_to_parse[is_ended]['Transaction_Type'].count())\n",
        "\n",
        "is_ended = calc_autopay_ended(all_transactions)\n",
        "print(f\"autopays ended = {is_ended}\")"
      ],
      "execution_count": 15,
      "outputs": [
        {
          "output_type": "stream",
          "text": [
            "autopays ended = 8\n"
          ],
          "name": "stdout"
        }
      ]
    },
    {
      "cell_type": "code",
      "metadata": {
        "id": "5ppQ-lEeRorV",
        "outputId": "ff587bf9-0728-49ff-8c0e-10b376cf116e",
        "colab": {
          "base_uri": "https://localhost:8080/"
        }
      },
      "source": [
        "def calc_autopay_started(txns_to_parse):\n",
        "    is_started = txns_to_parse['Transaction_Type'] == 'StartAutopay'\n",
        "    return(txns_to_parse[is_started]['Transaction_Type'].count())\n",
        "\n",
        "is_started = calc_autopay_started(all_transactions)\n",
        "print(f\"autopays started = {is_started}\")"
      ],
      "execution_count": 18,
      "outputs": [
        {
          "output_type": "stream",
          "text": [
            "autopays started = 10\n"
          ],
          "name": "stdout"
        }
      ]
    },
    {
      "cell_type": "code",
      "metadata": {
        "id": "SFm25UilSdz_",
        "outputId": "11d5b369-17bf-4c0e-c1d1-20c9eb3f7d94",
        "colab": {
          "base_uri": "https://localhost:8080/"
        }
      },
      "source": [
        "def calc_total_debits(txns_to_parse):\n",
        "    total_debits = round(txns_to_parse.loc[txns_to_parse['Transaction_Type'] == 'Debit', 'Amount'].sum(), 2)\n",
        "    return(total_debits)\n",
        "\n",
        "total_debits = calc_total_debits(all_transactions)\n",
        "print(f\"total debit amount = {total_debits}\")"
      ],
      "execution_count": 19,
      "outputs": [
        {
          "output_type": "stream",
          "text": [
            "total debit amount = 18203.7\n"
          ],
          "name": "stdout"
        }
      ]
    },
    {
      "cell_type": "code",
      "metadata": {
        "id": "rulqMn2xTcOW",
        "outputId": "09c5a0d3-1c93-4cb7-df3b-9174837d31ea",
        "colab": {
          "base_uri": "https://localhost:8080/"
        }
      },
      "source": [
        "def calc_total_credits(txns_to_parse):\n",
        "    total_credits = round(txns_to_parse.loc[txns_to_parse['Transaction_Type'] == 'Credit', 'Amount'].sum(), 2)\n",
        "    return(total_credits)\n",
        "\n",
        "total_credits = calc_total_credits(all_transactions)\n",
        "print(f\"total credit amount = {total_credits}\")"
      ],
      "execution_count": 21,
      "outputs": [
        {
          "output_type": "stream",
          "text": [
            "total credit amount = 9366.02\n"
          ],
          "name": "stdout"
        }
      ]
    },
    {
      "cell_type": "code",
      "metadata": {
        "id": "gCfX7secTnfk"
      },
      "source": [
        ""
      ],
      "execution_count": null,
      "outputs": []
    }
  ]
}